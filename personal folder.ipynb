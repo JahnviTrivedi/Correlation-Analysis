{
 "cells": [
  {
   "cell_type": "code",
   "execution_count": 1,
   "metadata": {},
   "outputs": [],
   "source": [
    "import pandas as pd\n",
    "import numpy as np\n",
    "from datetime import datetime, timedelta\n",
    "import time\n",
    "import seaborn as sns"
   ]
  },
  {
   "cell_type": "code",
   "execution_count": 2,
   "metadata": {},
   "outputs": [],
   "source": [
    "df=pd.read_csv(\"C:\\\\Users\\\\jahnvi trivedi\\\\Desktop\\\\New folder\\\\ast file.csv\")"
   ]
  },
  {
   "cell_type": "code",
   "execution_count": 3,
   "metadata": {},
   "outputs": [],
   "source": [
    "cor=df.corr()"
   ]
  },
  {
   "cell_type": "code",
   "execution_count": 4,
   "metadata": {},
   "outputs": [
    {
     "data": {
      "text/html": [
       "<div>\n",
       "<style scoped>\n",
       "    .dataframe tbody tr th:only-of-type {\n",
       "        vertical-align: middle;\n",
       "    }\n",
       "\n",
       "    .dataframe tbody tr th {\n",
       "        vertical-align: top;\n",
       "    }\n",
       "\n",
       "    .dataframe thead th {\n",
       "        text-align: right;\n",
       "    }\n",
       "</style>\n",
       "<table border=\"1\" class=\"dataframe\">\n",
       "  <thead>\n",
       "    <tr style=\"text-align: right;\">\n",
       "      <th></th>\n",
       "      <th>Timestamp</th>\n",
       "      <th>Current</th>\n",
       "      <th>Total voltage</th>\n",
       "      <th>SOC</th>\n",
       "      <th>Temperature</th>\n",
       "      <th>SOH</th>\n",
       "      <th>Equivalent cycle</th>\n",
       "      <th>Application status</th>\n",
       "      <th>Grid status</th>\n",
       "      <th>Grid power</th>\n",
       "      <th>Grid energy consumption</th>\n",
       "      <th>Grid cumulative energy consumption</th>\n",
       "    </tr>\n",
       "  </thead>\n",
       "  <tbody>\n",
       "    <tr>\n",
       "      <th>Timestamp</th>\n",
       "      <td>1.000000</td>\n",
       "      <td>4.418724e-04</td>\n",
       "      <td>-0.052912</td>\n",
       "      <td>-0.052751</td>\n",
       "      <td>-0.004988</td>\n",
       "      <td>-0.985722</td>\n",
       "      <td>0.999442</td>\n",
       "      <td>-7.123634e-03</td>\n",
       "      <td>-0.002747</td>\n",
       "      <td>0.016974</td>\n",
       "      <td>0.016974</td>\n",
       "      <td>0.999495</td>\n",
       "    </tr>\n",
       "    <tr>\n",
       "      <th>Current</th>\n",
       "      <td>0.000442</td>\n",
       "      <td>1.000000e+00</td>\n",
       "      <td>0.078020</td>\n",
       "      <td>0.120857</td>\n",
       "      <td>-0.818921</td>\n",
       "      <td>-0.000564</td>\n",
       "      <td>0.000640</td>\n",
       "      <td>-6.594991e-07</td>\n",
       "      <td>0.988289</td>\n",
       "      <td>0.223321</td>\n",
       "      <td>0.223321</td>\n",
       "      <td>0.000884</td>\n",
       "    </tr>\n",
       "    <tr>\n",
       "      <th>Total voltage</th>\n",
       "      <td>-0.052912</td>\n",
       "      <td>7.802047e-02</td>\n",
       "      <td>1.000000</td>\n",
       "      <td>0.996240</td>\n",
       "      <td>-0.326546</td>\n",
       "      <td>0.054130</td>\n",
       "      <td>-0.053510</td>\n",
       "      <td>4.762158e-02</td>\n",
       "      <td>0.184622</td>\n",
       "      <td>-0.666429</td>\n",
       "      <td>-0.666429</td>\n",
       "      <td>-0.051234</td>\n",
       "    </tr>\n",
       "    <tr>\n",
       "      <th>SOC</th>\n",
       "      <td>-0.052751</td>\n",
       "      <td>1.208567e-01</td>\n",
       "      <td>0.996240</td>\n",
       "      <td>1.000000</td>\n",
       "      <td>-0.369040</td>\n",
       "      <td>0.054005</td>\n",
       "      <td>-0.053320</td>\n",
       "      <td>3.531014e-02</td>\n",
       "      <td>0.227947</td>\n",
       "      <td>-0.668910</td>\n",
       "      <td>-0.668910</td>\n",
       "      <td>-0.051038</td>\n",
       "    </tr>\n",
       "    <tr>\n",
       "      <th>Temperature</th>\n",
       "      <td>-0.004988</td>\n",
       "      <td>-8.189212e-01</td>\n",
       "      <td>-0.326546</td>\n",
       "      <td>-0.369040</td>\n",
       "      <td>1.000000</td>\n",
       "      <td>0.003684</td>\n",
       "      <td>-0.004896</td>\n",
       "      <td>1.668334e-03</td>\n",
       "      <td>-0.845026</td>\n",
       "      <td>0.054698</td>\n",
       "      <td>0.054698</td>\n",
       "      <td>-0.005666</td>\n",
       "    </tr>\n",
       "    <tr>\n",
       "      <th>SOH</th>\n",
       "      <td>-0.985722</td>\n",
       "      <td>-5.643790e-04</td>\n",
       "      <td>0.054130</td>\n",
       "      <td>0.054005</td>\n",
       "      <td>0.003684</td>\n",
       "      <td>1.000000</td>\n",
       "      <td>-0.984262</td>\n",
       "      <td>6.455398e-03</td>\n",
       "      <td>0.003190</td>\n",
       "      <td>-0.021221</td>\n",
       "      <td>-0.021221</td>\n",
       "      <td>-0.985855</td>\n",
       "    </tr>\n",
       "    <tr>\n",
       "      <th>Equivalent cycle</th>\n",
       "      <td>0.999442</td>\n",
       "      <td>6.402455e-04</td>\n",
       "      <td>-0.053510</td>\n",
       "      <td>-0.053320</td>\n",
       "      <td>-0.004896</td>\n",
       "      <td>-0.984262</td>\n",
       "      <td>1.000000</td>\n",
       "      <td>-7.205035e-03</td>\n",
       "      <td>-0.002752</td>\n",
       "      <td>0.018367</td>\n",
       "      <td>0.018367</td>\n",
       "      <td>0.999942</td>\n",
       "    </tr>\n",
       "    <tr>\n",
       "      <th>Application status</th>\n",
       "      <td>-0.007124</td>\n",
       "      <td>-6.594991e-07</td>\n",
       "      <td>0.047622</td>\n",
       "      <td>0.035310</td>\n",
       "      <td>0.001668</td>\n",
       "      <td>0.006455</td>\n",
       "      <td>-0.007205</td>\n",
       "      <td>1.000000e+00</td>\n",
       "      <td>0.051749</td>\n",
       "      <td>0.004199</td>\n",
       "      <td>0.004199</td>\n",
       "      <td>-0.007083</td>\n",
       "    </tr>\n",
       "    <tr>\n",
       "      <th>Grid status</th>\n",
       "      <td>-0.002747</td>\n",
       "      <td>9.882892e-01</td>\n",
       "      <td>0.184622</td>\n",
       "      <td>0.227947</td>\n",
       "      <td>-0.845026</td>\n",
       "      <td>0.003190</td>\n",
       "      <td>-0.002752</td>\n",
       "      <td>5.174904e-02</td>\n",
       "      <td>1.000000</td>\n",
       "      <td>0.081135</td>\n",
       "      <td>0.081135</td>\n",
       "      <td>-0.002278</td>\n",
       "    </tr>\n",
       "    <tr>\n",
       "      <th>Grid power</th>\n",
       "      <td>0.016974</td>\n",
       "      <td>2.233209e-01</td>\n",
       "      <td>-0.666429</td>\n",
       "      <td>-0.668910</td>\n",
       "      <td>0.054698</td>\n",
       "      <td>-0.021221</td>\n",
       "      <td>0.018367</td>\n",
       "      <td>4.198656e-03</td>\n",
       "      <td>0.081135</td>\n",
       "      <td>1.000000</td>\n",
       "      <td>1.000000</td>\n",
       "      <td>0.016952</td>\n",
       "    </tr>\n",
       "    <tr>\n",
       "      <th>Grid energy consumption</th>\n",
       "      <td>0.016974</td>\n",
       "      <td>2.233209e-01</td>\n",
       "      <td>-0.666429</td>\n",
       "      <td>-0.668910</td>\n",
       "      <td>0.054698</td>\n",
       "      <td>-0.021221</td>\n",
       "      <td>0.018367</td>\n",
       "      <td>4.198656e-03</td>\n",
       "      <td>0.081135</td>\n",
       "      <td>1.000000</td>\n",
       "      <td>1.000000</td>\n",
       "      <td>0.016952</td>\n",
       "    </tr>\n",
       "    <tr>\n",
       "      <th>Grid cumulative energy consumption</th>\n",
       "      <td>0.999495</td>\n",
       "      <td>8.838689e-04</td>\n",
       "      <td>-0.051234</td>\n",
       "      <td>-0.051038</td>\n",
       "      <td>-0.005666</td>\n",
       "      <td>-0.985855</td>\n",
       "      <td>0.999942</td>\n",
       "      <td>-7.083047e-03</td>\n",
       "      <td>-0.002278</td>\n",
       "      <td>0.016952</td>\n",
       "      <td>0.016952</td>\n",
       "      <td>1.000000</td>\n",
       "    </tr>\n",
       "  </tbody>\n",
       "</table>\n",
       "</div>"
      ],
      "text/plain": [
       "                                    Timestamp       Current  Total voltage  \\\n",
       "Timestamp                            1.000000  4.418724e-04      -0.052912   \n",
       "Current                              0.000442  1.000000e+00       0.078020   \n",
       "Total voltage                       -0.052912  7.802047e-02       1.000000   \n",
       "SOC                                 -0.052751  1.208567e-01       0.996240   \n",
       "Temperature                         -0.004988 -8.189212e-01      -0.326546   \n",
       "SOH                                 -0.985722 -5.643790e-04       0.054130   \n",
       "Equivalent cycle                     0.999442  6.402455e-04      -0.053510   \n",
       "Application status                  -0.007124 -6.594991e-07       0.047622   \n",
       "Grid status                         -0.002747  9.882892e-01       0.184622   \n",
       "Grid power                           0.016974  2.233209e-01      -0.666429   \n",
       "Grid energy consumption              0.016974  2.233209e-01      -0.666429   \n",
       "Grid cumulative energy consumption   0.999495  8.838689e-04      -0.051234   \n",
       "\n",
       "                                         SOC  Temperature       SOH  \\\n",
       "Timestamp                          -0.052751    -0.004988 -0.985722   \n",
       "Current                             0.120857    -0.818921 -0.000564   \n",
       "Total voltage                       0.996240    -0.326546  0.054130   \n",
       "SOC                                 1.000000    -0.369040  0.054005   \n",
       "Temperature                        -0.369040     1.000000  0.003684   \n",
       "SOH                                 0.054005     0.003684  1.000000   \n",
       "Equivalent cycle                   -0.053320    -0.004896 -0.984262   \n",
       "Application status                  0.035310     0.001668  0.006455   \n",
       "Grid status                         0.227947    -0.845026  0.003190   \n",
       "Grid power                         -0.668910     0.054698 -0.021221   \n",
       "Grid energy consumption            -0.668910     0.054698 -0.021221   \n",
       "Grid cumulative energy consumption -0.051038    -0.005666 -0.985855   \n",
       "\n",
       "                                    Equivalent cycle  Application status  \\\n",
       "Timestamp                                   0.999442       -7.123634e-03   \n",
       "Current                                     0.000640       -6.594991e-07   \n",
       "Total voltage                              -0.053510        4.762158e-02   \n",
       "SOC                                        -0.053320        3.531014e-02   \n",
       "Temperature                                -0.004896        1.668334e-03   \n",
       "SOH                                        -0.984262        6.455398e-03   \n",
       "Equivalent cycle                            1.000000       -7.205035e-03   \n",
       "Application status                         -0.007205        1.000000e+00   \n",
       "Grid status                                -0.002752        5.174904e-02   \n",
       "Grid power                                  0.018367        4.198656e-03   \n",
       "Grid energy consumption                     0.018367        4.198656e-03   \n",
       "Grid cumulative energy consumption          0.999942       -7.083047e-03   \n",
       "\n",
       "                                    Grid status  Grid power  \\\n",
       "Timestamp                             -0.002747    0.016974   \n",
       "Current                                0.988289    0.223321   \n",
       "Total voltage                          0.184622   -0.666429   \n",
       "SOC                                    0.227947   -0.668910   \n",
       "Temperature                           -0.845026    0.054698   \n",
       "SOH                                    0.003190   -0.021221   \n",
       "Equivalent cycle                      -0.002752    0.018367   \n",
       "Application status                     0.051749    0.004199   \n",
       "Grid status                            1.000000    0.081135   \n",
       "Grid power                             0.081135    1.000000   \n",
       "Grid energy consumption                0.081135    1.000000   \n",
       "Grid cumulative energy consumption    -0.002278    0.016952   \n",
       "\n",
       "                                    Grid energy consumption  \\\n",
       "Timestamp                                          0.016974   \n",
       "Current                                            0.223321   \n",
       "Total voltage                                     -0.666429   \n",
       "SOC                                               -0.668910   \n",
       "Temperature                                        0.054698   \n",
       "SOH                                               -0.021221   \n",
       "Equivalent cycle                                   0.018367   \n",
       "Application status                                 0.004199   \n",
       "Grid status                                        0.081135   \n",
       "Grid power                                         1.000000   \n",
       "Grid energy consumption                            1.000000   \n",
       "Grid cumulative energy consumption                 0.016952   \n",
       "\n",
       "                                    Grid cumulative energy consumption  \n",
       "Timestamp                                                     0.999495  \n",
       "Current                                                       0.000884  \n",
       "Total voltage                                                -0.051234  \n",
       "SOC                                                          -0.051038  \n",
       "Temperature                                                  -0.005666  \n",
       "SOH                                                          -0.985855  \n",
       "Equivalent cycle                                              0.999942  \n",
       "Application status                                           -0.007083  \n",
       "Grid status                                                  -0.002278  \n",
       "Grid power                                                    0.016952  \n",
       "Grid energy consumption                                       0.016952  \n",
       "Grid cumulative energy consumption                            1.000000  "
      ]
     },
     "execution_count": 4,
     "metadata": {},
     "output_type": "execute_result"
    }
   ],
   "source": [
    "cor"
   ]
  },
  {
   "cell_type": "code",
   "execution_count": 5,
   "metadata": {},
   "outputs": [
    {
     "data": {
      "image/png": "[encoded data removed]",
      "text/plain": [
       "<Figure size 432x288 with 2 Axes>"
      ]
     },
     "metadata": {},
     "output_type": "display_data"
    }
   ],
   "source": [
    "ax = sns.heatmap(\n",
    "    cor, \n",
    "    vmin=-1, vmax=1, center=0,\n",
    "    cmap=\"coolwarm\"\n",
    ")\n",
    "ax.set_xticklabels(\n",
    "    ax.get_xticklabels(),\n",
    "    rotation=45,\n",
    "    horizontalalignment='right'\n",
    ");\n"
   ]
  },
  {
   "cell_type": "code",
   "execution_count": 7,
   "metadata": {},
   "outputs": [],
   "source": [
    "df['time2']=df['Timestamp'].astype(str)"
   ]
  },
  {
   "cell_type": "code",
   "execution_count": 10,
   "metadata": {},
   "outputs": [],
   "source": [
    "df['time']=df['time2'].str[:10]"
   ]
  },
  {
   "cell_type": "code",
   "execution_count": 12,
   "metadata": {},
   "outputs": [
    {
     "data": {
      "text/plain": [
       "Timestamp                               int64\n",
       "Current                                 int64\n",
       "Total voltage                         float64\n",
       "SOC                                   float64\n",
       "Temperature                           float64\n",
       "SOH                                   float64\n",
       "Equivalent cycle                      float64\n",
       "Application status                      int64\n",
       "Grid status                             int64\n",
       "Grid power                            float64\n",
       "Grid energy consumption               float64\n",
       "Grid cumulative energy consumption    float64\n",
       "time2                                  object\n",
       "time                                   object\n",
       "dtype: object"
      ]
     },
     "execution_count": 12,
     "metadata": {},
     "output_type": "execute_result"
    }
   ],
   "source": [
    "df.dtypes"
   ]
  },
  {
   "cell_type": "code",
   "execution_count": null,
   "metadata": {},
   "outputs": [],
   "source": [
    "df['time']=df['time'].astype(int)"
   ]
  },
  {
   "cell_type": "code",
   "execution_count": 11,
   "metadata": {},
   "outputs": [],
   "source": [
    "def convert_datetime(x):\n",
    "    stamps=datetime.fromtimestamp(x['time'])\n",
    "    return stamps"
   ]
  },
  {
   "cell_type": "code",
   "execution_count": 86,
   "metadata": {
    "collapsed": true
   },
   "outputs": [
    {
     "ename": "TypeError",
     "evalue": "convert_datetime() got an unexpected keyword argument 'axis'",
     "output_type": "error",
     "traceback": [
      "\u001b[1;31m---------------------------------------------------------------------------\u001b[0m",
      "\u001b[1;31mTypeError\u001b[0m                                 Traceback (most recent call last)",
      "\u001b[1;32m<ipython-input-86-f35006f67713>\u001b[0m in \u001b[0;36m<module>\u001b[1;34m()\u001b[0m\n\u001b[1;32m----> 1\u001b[1;33m \u001b[0mnewdf\u001b[0m\u001b[1;33m[\u001b[0m\u001b[1;34m'newcol'\u001b[0m\u001b[1;33m]\u001b[0m\u001b[1;33m=\u001b[0m\u001b[0mdf\u001b[0m\u001b[1;33m[\u001b[0m\u001b[1;34m'time2'\u001b[0m\u001b[1;33m]\u001b[0m\u001b[1;33m.\u001b[0m\u001b[0mapply\u001b[0m\u001b[1;33m(\u001b[0m\u001b[0mconvert_datetime\u001b[0m\u001b[1;33m,\u001b[0m\u001b[0maxis\u001b[0m\u001b[1;33m=\u001b[0m\u001b[1;36m0\u001b[0m\u001b[1;33m)\u001b[0m\u001b[1;33m\u001b[0m\u001b[0m\n\u001b[0m",
      "\u001b[1;32m~\\Anaconda3\\lib\\site-packages\\pandas\\core\\series.py\u001b[0m in \u001b[0;36mapply\u001b[1;34m(self, func, convert_dtype, args, **kwds)\u001b[0m\n\u001b[0;32m   2549\u001b[0m             \u001b[1;32melse\u001b[0m\u001b[1;33m:\u001b[0m\u001b[1;33m\u001b[0m\u001b[0m\n\u001b[0;32m   2550\u001b[0m                 \u001b[0mvalues\u001b[0m \u001b[1;33m=\u001b[0m \u001b[0mself\u001b[0m\u001b[1;33m.\u001b[0m\u001b[0masobject\u001b[0m\u001b[1;33m\u001b[0m\u001b[0m\n\u001b[1;32m-> 2551\u001b[1;33m                 \u001b[0mmapped\u001b[0m \u001b[1;33m=\u001b[0m \u001b[0mlib\u001b[0m\u001b[1;33m.\u001b[0m\u001b[0mmap_infer\u001b[0m\u001b[1;33m(\u001b[0m\u001b[0mvalues\u001b[0m\u001b[1;33m,\u001b[0m \u001b[0mf\u001b[0m\u001b[1;33m,\u001b[0m \u001b[0mconvert\u001b[0m\u001b[1;33m=\u001b[0m\u001b[0mconvert_dtype\u001b[0m\u001b[1;33m)\u001b[0m\u001b[1;33m\u001b[0m\u001b[0m\n\u001b[0m\u001b[0;32m   2552\u001b[0m \u001b[1;33m\u001b[0m\u001b[0m\n\u001b[0;32m   2553\u001b[0m         \u001b[1;32mif\u001b[0m \u001b[0mlen\u001b[0m\u001b[1;33m(\u001b[0m\u001b[0mmapped\u001b[0m\u001b[1;33m)\u001b[0m \u001b[1;32mand\u001b[0m \u001b[0misinstance\u001b[0m\u001b[1;33m(\u001b[0m\u001b[0mmapped\u001b[0m\u001b[1;33m[\u001b[0m\u001b[1;36m0\u001b[0m\u001b[1;33m]\u001b[0m\u001b[1;33m,\u001b[0m \u001b[0mSeries\u001b[0m\u001b[1;33m)\u001b[0m\u001b[1;33m:\u001b[0m\u001b[1;33m\u001b[0m\u001b[0m\n",
      "\u001b[1;32mpandas/_libs/src/inference.pyx\u001b[0m in \u001b[0;36mpandas._libs.lib.map_infer\u001b[1;34m()\u001b[0m\n",
      "\u001b[1;32m~\\Anaconda3\\lib\\site-packages\\pandas\\core\\series.py\u001b[0m in \u001b[0;36m<lambda>\u001b[1;34m(x)\u001b[0m\n\u001b[0;32m   2536\u001b[0m         \u001b[1;31m# handle ufuncs and lambdas\u001b[0m\u001b[1;33m\u001b[0m\u001b[1;33m\u001b[0m\u001b[0m\n\u001b[0;32m   2537\u001b[0m         \u001b[1;32mif\u001b[0m \u001b[0mkwds\u001b[0m \u001b[1;32mor\u001b[0m \u001b[0margs\u001b[0m \u001b[1;32mand\u001b[0m \u001b[1;32mnot\u001b[0m \u001b[0misinstance\u001b[0m\u001b[1;33m(\u001b[0m\u001b[0mfunc\u001b[0m\u001b[1;33m,\u001b[0m \u001b[0mnp\u001b[0m\u001b[1;33m.\u001b[0m\u001b[0mufunc\u001b[0m\u001b[1;33m)\u001b[0m\u001b[1;33m:\u001b[0m\u001b[1;33m\u001b[0m\u001b[0m\n\u001b[1;32m-> 2538\u001b[1;33m             \u001b[0mf\u001b[0m \u001b[1;33m=\u001b[0m \u001b[1;32mlambda\u001b[0m \u001b[0mx\u001b[0m\u001b[1;33m:\u001b[0m \u001b[0mfunc\u001b[0m\u001b[1;33m(\u001b[0m\u001b[0mx\u001b[0m\u001b[1;33m,\u001b[0m \u001b[1;33m*\u001b[0m\u001b[0margs\u001b[0m\u001b[1;33m,\u001b[0m \u001b[1;33m**\u001b[0m\u001b[0mkwds\u001b[0m\u001b[1;33m)\u001b[0m\u001b[1;33m\u001b[0m\u001b[0m\n\u001b[0m\u001b[0;32m   2539\u001b[0m         \u001b[1;32melse\u001b[0m\u001b[1;33m:\u001b[0m\u001b[1;33m\u001b[0m\u001b[0m\n\u001b[0;32m   2540\u001b[0m             \u001b[0mf\u001b[0m \u001b[1;33m=\u001b[0m \u001b[0mfunc\u001b[0m\u001b[1;33m\u001b[0m\u001b[0m\n",
      "\u001b[1;31mTypeError\u001b[0m: convert_datetime() got an unexpected keyword argument 'axis'"
     ]
    }
   ],
   "source": [
    "df['newcol']=df['time'].apply(convert_datetime,axis=0)"
   ]
  },
  {
   "cell_type": "code",
   "execution_count": null,
   "metadata": {},
   "outputs": [],
   "source": [
    "#correlation between pairs of variables."
   ]
  },
  {
   "cell_type": "code",
   "execution_count": 6,
   "metadata": {},
   "outputs": [],
   "source": [
    "corr1=df['Grid status'].corr(df['SOC'])\n",
    "corr1\n",
    "#we get 0.22794 positive correlation betweeen 'SOC' and 'Grid Status'.it  descibes that if we change the value in SOC ,it ll affact(less) to the  Grid Status as correlation is less to moderate."
   ]
  },
  {
   "cell_type": "code",
   "execution_count": 96,
   "metadata": {},
   "outputs": [
    {
     "data": {
      "image/png": "[encoded data removed]",
      "text/plain": [
       "<Figure size 432x288 with 1 Axes>"
      ]
     },
     "metadata": {},
     "output_type": "display_data"
    }
   ],
   "source": [
    "import matplotlib\n",
    "import matplotlib.pyplot as plt\n",
    "%matplotlib inline\n",
    "matplotlib.style.use('ggplot')\n",
    "\n",
    "plt.scatter(df['Grid status'],(df['SOC']))\n",
    "plt.title('Scatter plot')\n",
    "plt.xlabel('Grid Status')\n",
    "plt.ylabel('SOC')\n",
    "plt.show()"
   ]
  },
  {
   "cell_type": "code",
   "execution_count": 11,
   "metadata": {},
   "outputs": [
    {
     "data": {
      "text/plain": [
       "-0.9842624478536391"
      ]
     },
     "execution_count": 11,
     "metadata": {},
     "output_type": "execute_result"
    }
   ],
   "source": [
    "coor2=df['Equivalent cycle'].corr(df['SOH'])\n",
    "corr2\n",
    "#we got -0.98426 strong negetive correation between 'Equivalent Cycle' and 'SOH'.as we decreased in Equivqlent cycle ,SOH ll Increased and viceversa."
   ]
  },
  {
   "cell_type": "code",
   "execution_count": 97,
   "metadata": {},
   "outputs": [
    {
     "data": {
      "image/png": "[encoded data removed]",
      "text/plain": [
       "<Figure size 432x288 with 1 Axes>"
      ]
     },
     "metadata": {},
     "output_type": "display_data"
    }
   ],
   "source": [
    "plt.scatter(df['Equivalent cycle'],df['SOH'])\n",
    "plt.title('Scatter plot')\n",
    "plt.xlabel('Equivalent cycle')\n",
    "plt.ylabel('SOH')\n",
    "plt.show()"
   ]
  },
  {
   "cell_type": "code",
   "execution_count": 14,
   "metadata": {},
   "outputs": [
    {
     "data": {
      "text/plain": [
       "-0.3690403532661063"
      ]
     },
     "execution_count": 14,
     "metadata": {},
     "output_type": "execute_result"
    }
   ],
   "source": [
    "corr3=df['SOC'].corr(df['Temperature'])\n",
    "corr3\n",
    "#we got -0.36904 correlation value which is no correlation.That means there is no relation between SOC and Temperature.Both are independant variable.change of one value doesn't affact second value."
   ]
  },
  {
   "cell_type": "code",
   "execution_count": 99,
   "metadata": {},
   "outputs": [
    {
     "data": {
      "image/png": "[encoded data removed]",
      "text/plain": [
       "<Figure size 432x288 with 1 Axes>"
      ]
     },
     "metadata": {},
     "output_type": "display_data"
    }
   ],
   "source": [
    "plt.scatter(df['SOC'],df['Temperature'])\n",
    "plt.title('Scatter plot')\n",
    "plt.xlabel('SOC')\n",
    "plt.ylabel('Temperature')\n",
    "plt.show()"
   ]
  },
  {
   "cell_type": "code",
   "execution_count": 63,
   "metadata": {},
   "outputs": [],
   "source": [
    "newdf1=df['Timestamp']"
   ]
  },
  {
   "cell_type": "code",
   "execution_count": 47,
   "metadata": {},
   "outputs": [],
   "source": [
    "newdf['Timestamp']=df['Timestamp']"
   ]
  },
  {
   "cell_type": "code",
   "execution_count": 48,
   "metadata": {
    "collapsed": true
   },
   "outputs": [
    {
     "data": {
      "text/plain": [
       "0                                                1556701215000\n",
       "1                                                1556702215000\n",
       "2                                                1556703215000\n",
       "3                                                1556704215000\n",
       "4                                                1556705215000\n",
       "5                                                1556706215000\n",
       "6                                                1556707215000\n",
       "7                                                1556708215000\n",
       "8                                                1556709215000\n",
       "9                                                1556710215000\n",
       "10                                               1556711215000\n",
       "11                                               1556712215000\n",
       "12                                               1556713215000\n",
       "13                                               1556714215000\n",
       "14                                               1556715215000\n",
       "15                                               1556716215000\n",
       "16                                               1556717215000\n",
       "17                                               1556718215000\n",
       "18                                               1556719215000\n",
       "19                                               1556720215000\n",
       "20                                               1556721215000\n",
       "21                                               1556722215000\n",
       "22                                               1556723215000\n",
       "23                                               1556724215000\n",
       "24                                               1556725215000\n",
       "25                                               1556726215000\n",
       "26                                               1556727215000\n",
       "27                                               1556728215000\n",
       "28                                               1556729215000\n",
       "29                                               1556730215000\n",
       "                                   ...                        \n",
       "31075                                            1587776215000\n",
       "31076                                            1587777215000\n",
       "31077                                            1587778215000\n",
       "31078                                            1587779215000\n",
       "31079                                            1587780215000\n",
       "31080                                            1587781215000\n",
       "31081                                            1587782215000\n",
       "31082                                            1587783215000\n",
       "31083                                            1587784215000\n",
       "31084                                            1587785215000\n",
       "31085                                            1587786215000\n",
       "31086                                            1587787215000\n",
       "31087                                            1587788215000\n",
       "31088                                            1587789215000\n",
       "31089                                            1587790215000\n",
       "31090                                            1587791215000\n",
       "31091                                            1587792215000\n",
       "31092                                            1587793215000\n",
       "31093                                            1587794215000\n",
       "31094                                            1587795215000\n",
       "31095                                            1587796215000\n",
       "31096                                            1587797215000\n",
       "31097                                            1587798215000\n",
       "31098                                            1587799215000\n",
       "31099                                            1587800215000\n",
       "31100                                            1587801215000\n",
       "31101                                            1587802215000\n",
       "31102                                            1587803215000\n",
       "31103                                            1587804215000\n",
       "Timestamp    0        1556701215000\n",
       "1        1556702215000\n",
       "...\n",
       "Name: Timestamp, Length: 31105, dtype: object"
      ]
     },
     "execution_count": 48,
     "metadata": {},
     "output_type": "execute_result"
    }
   ],
   "source": [
    "newdf"
   ]
  },
  {
   "cell_type": "code",
   "execution_count": 92,
   "metadata": {},
   "outputs": [],
   "source": [
    "newdf['Timestamp']=newdf['Timestamp'].astype(str)"
   ]
  },
  {
   "cell_type": "code",
   "execution_count": 93,
   "metadata": {
    "collapsed": true
   },
   "outputs": [
    {
     "data": {
      "text/plain": [
       "0        1556701215\n",
       "1        1556702215\n",
       "2        1556703215\n",
       "3        1556704215\n",
       "4        1556705215\n",
       "5        1556706215\n",
       "6        1556707215\n",
       "7        1556708215\n",
       "8        1556709215\n",
       "9        1556710215\n",
       "10       1556711215\n",
       "11       1556712215\n",
       "12       1556713215\n",
       "13       1556714215\n",
       "14       1556715215\n",
       "15       1556716215\n",
       "16       1556717215\n",
       "17       1556718215\n",
       "18       1556719215\n",
       "19       1556720215\n",
       "20       1556721215\n",
       "21       1556722215\n",
       "22       1556723215\n",
       "23       1556724215\n",
       "24       1556725215\n",
       "25       1556726215\n",
       "26       1556727215\n",
       "27       1556728215\n",
       "28       1556729215\n",
       "29       1556730215\n",
       "            ...    \n",
       "31074    1587775215\n",
       "31075    1587776215\n",
       "31076    1587777215\n",
       "31077    1587778215\n",
       "31078    1587779215\n",
       "31079    1587780215\n",
       "31080    1587781215\n",
       "31081    1587782215\n",
       "31082    1587783215\n",
       "31083    1587784215\n",
       "31084    1587785215\n",
       "31085    1587786215\n",
       "31086    1587787215\n",
       "31087    1587788215\n",
       "31088    1587789215\n",
       "31089    1587790215\n",
       "31090    1587791215\n",
       "31091    1587792215\n",
       "31092    1587793215\n",
       "31093    1587794215\n",
       "31094    1587795215\n",
       "31095    1587796215\n",
       "31096    1587797215\n",
       "31097    1587798215\n",
       "31098    1587799215\n",
       "31099    1587800215\n",
       "31100    1587801215\n",
       "31101    1587802215\n",
       "31102    1587803215\n",
       "31103    1587804215\n",
       "Name: Timestamp, Length: 31104, dtype: object"
      ]
     },
     "execution_count": 93,
     "metadata": {},
     "output_type": "execute_result"
    }
   ],
   "source": [
    "newdf['Timestamp'].str[:10]"
   ]
  },
  {
   "cell_type": "code",
   "execution_count": 54,
   "metadata": {},
   "outputs": [],
   "source": [
    "newdf['Timestamp']=newdf['Timestamp'].astype('int64')"
   ]
  },
  {
   "cell_type": "code",
   "execution_count": 62,
   "metadata": {},
   "outputs": [
    {
     "ename": "TypeError",
     "evalue": "'RangeIndex' object is not callable",
     "output_type": "error",
     "traceback": [
      "\u001b[1;31m---------------------------------------------------------------------------\u001b[0m",
      "\u001b[1;31mTypeError\u001b[0m                                 Traceback (most recent call last)",
      "\u001b[1;32m<ipython-input-62-d3e3673a603e>\u001b[0m in \u001b[0;36m<module>\u001b[1;34m()\u001b[0m\n\u001b[1;32m----> 1\u001b[1;33m \u001b[0mnewdf\u001b[0m\u001b[1;33m[\u001b[0m\u001b[1;34m'Timestamp'\u001b[0m\u001b[1;33m]\u001b[0m\u001b[1;33m.\u001b[0m\u001b[0mindex\u001b[0m\u001b[1;33m(\u001b[0m\u001b[1;36m0\u001b[0m\u001b[1;33m)\u001b[0m\u001b[1;33m\u001b[0m\u001b[0m\n\u001b[0m",
      "\u001b[1;31mTypeError\u001b[0m: 'RangeIndex' object is not callable"
     ]
    }
   ],
   "source": [
    "newdf['Timestamp']"
   ]
  },
  {
   "cell_type": "code",
   "execution_count": null,
   "metadata": {},
   "outputs": [],
   "source": [
    "pq.index = pd.to_datetime(pq.Timestamp)"
   ]
  },
  {
   "cell_type": "code",
   "execution_count": 95,
   "metadata": {},
   "outputs": [
    {
     "data": {
      "text/plain": [
       "0        1556701215000\n",
       "1        1556702215000\n",
       "2        1556703215000\n",
       "3        1556704215000\n",
       "4        1556705215000\n",
       "5        1556706215000\n",
       "6        1556707215000\n",
       "7        1556708215000\n",
       "8        1556709215000\n",
       "9        1556710215000\n",
       "10       1556711215000\n",
       "11       1556712215000\n",
       "12       1556713215000\n",
       "13       1556714215000\n",
       "14       1556715215000\n",
       "15       1556716215000\n",
       "16       1556717215000\n",
       "17       1556718215000\n",
       "18       1556719215000\n",
       "19       1556720215000\n",
       "20       1556721215000\n",
       "21       1556722215000\n",
       "22       1556723215000\n",
       "23       1556724215000\n",
       "24       1556725215000\n",
       "25       1556726215000\n",
       "26       1556727215000\n",
       "27       1556728215000\n",
       "28       1556729215000\n",
       "29       1556730215000\n",
       "             ...      \n",
       "31074    1587775215000\n",
       "31075    1587776215000\n",
       "31076    1587777215000\n",
       "31077    1587778215000\n",
       "31078    1587779215000\n",
       "31079    1587780215000\n",
       "31080    1587781215000\n",
       "31081    1587782215000\n",
       "31082    1587783215000\n",
       "31083    1587784215000\n",
       "31084    1587785215000\n",
       "31085    1587786215000\n",
       "31086    1587787215000\n",
       "31087    1587788215000\n",
       "31088    1587789215000\n",
       "31089    1587790215000\n",
       "31090    1587791215000\n",
       "31091    1587792215000\n",
       "31092    1587793215000\n",
       "31093    1587794215000\n",
       "31094    1587795215000\n",
       "31095    1587796215000\n",
       "31096    1587797215000\n",
       "31097    1587798215000\n",
       "31098    1587799215000\n",
       "31099    1587800215000\n",
       "31100    1587801215000\n",
       "31101    1587802215000\n",
       "31102    1587803215000\n",
       "31103    1587804215000\n",
       "Name: Timestamp, Length: 31104, dtype: int64"
      ]
     },
     "execution_count": 95,
     "metadata": {},
     "output_type": "execute_result"
    }
   ],
   "source": [
    "newdf['Timestamp'].apply(int)"
   ]
  },
  {
   "cell_type": "code",
   "execution_count": 90,
   "metadata": {},
   "outputs": [
    {
     "ename": "TypeError",
     "evalue": "cannot convert the series to <class 'int'>",
     "output_type": "error",
     "traceback": [
      "\u001b[1;31m---------------------------------------------------------------------------\u001b[0m",
      "\u001b[1;31mTypeError\u001b[0m                                 Traceback (most recent call last)",
      "\u001b[1;32m<ipython-input-90-21f01970a445>\u001b[0m in \u001b[0;36m<module>\u001b[1;34m()\u001b[0m\n\u001b[0;32m      1\u001b[0m \u001b[0mtimestamp\u001b[0m \u001b[1;33m=\u001b[0m  \u001b[0mdf\u001b[0m\u001b[1;33m[\u001b[0m\u001b[1;34m'time2'\u001b[0m\u001b[1;33m]\u001b[0m\u001b[1;33m\u001b[0m\u001b[0m\n\u001b[1;32m----> 2\u001b[1;33m \u001b[0mdt_object\u001b[0m \u001b[1;33m=\u001b[0m \u001b[0mdatetime\u001b[0m\u001b[1;33m.\u001b[0m\u001b[0mfromtimestamp\u001b[0m\u001b[1;33m(\u001b[0m\u001b[0mtimestamp\u001b[0m\u001b[1;33m)\u001b[0m\u001b[1;33m\u001b[0m\u001b[0m\n\u001b[0m",
      "\u001b[1;32m~\\Anaconda3\\lib\\site-packages\\pandas\\core\\series.py\u001b[0m in \u001b[0;36mwrapper\u001b[1;34m(self)\u001b[0m\n\u001b[0;32m    110\u001b[0m             \u001b[1;32mreturn\u001b[0m \u001b[0mconverter\u001b[0m\u001b[1;33m(\u001b[0m\u001b[0mself\u001b[0m\u001b[1;33m.\u001b[0m\u001b[0miloc\u001b[0m\u001b[1;33m[\u001b[0m\u001b[1;36m0\u001b[0m\u001b[1;33m]\u001b[0m\u001b[1;33m)\u001b[0m\u001b[1;33m\u001b[0m\u001b[0m\n\u001b[0;32m    111\u001b[0m         raise TypeError(\"cannot convert the series to \"\n\u001b[1;32m--> 112\u001b[1;33m                         \"{0}\".format(str(converter)))\n\u001b[0m\u001b[0;32m    113\u001b[0m \u001b[1;33m\u001b[0m\u001b[0m\n\u001b[0;32m    114\u001b[0m     \u001b[1;32mreturn\u001b[0m \u001b[0mwrapper\u001b[0m\u001b[1;33m\u001b[0m\u001b[0m\n",
      "\u001b[1;31mTypeError\u001b[0m: cannot convert the series to <class 'int'>"
     ]
    }
   ],
   "source": [
    "timestamp =  df['time2']\n",
    "dt_object = datetime.fromtimestamp(timestamp)\n"
   ]
  },
  {
   "cell_type": "code",
   "execution_count": 88,
   "metadata": {},
   "outputs": [
    {
     "data": {
      "text/plain": [
       "dtype('O')"
      ]
     },
     "execution_count": 88,
     "metadata": {},
     "output_type": "execute_result"
    }
   ],
   "source": [
    "df['time2'].dtypes"
   ]
  },
  {
   "cell_type": "code",
   "execution_count": 89,
   "metadata": {},
   "outputs": [
    {
     "data": {
      "text/plain": [
       "Timestamp                               int64\n",
       "Current                                 int64\n",
       "Total voltage                         float64\n",
       "SOC                                   float64\n",
       "Temperature                           float64\n",
       "SOH                                   float64\n",
       "Equivalent cycle                      float64\n",
       "Application status                      int64\n",
       "Grid status                             int64\n",
       "Grid power                            float64\n",
       "Grid energy consumption               float64\n",
       "Grid cumulative energy consumption    float64\n",
       "time2                                  object\n",
       "dtype: object"
      ]
     },
     "execution_count": 89,
     "metadata": {},
     "output_type": "execute_result"
    }
   ],
   "source": [
    "df.dtypes"
   ]
  },
  {
   "cell_type": "code",
   "execution_count": 87,
   "metadata": {},
   "outputs": [
    {
     "ename": "NameError",
     "evalue": "name 'dtyps' is not defined",
     "output_type": "error",
     "traceback": [
      "\u001b[1;31m---------------------------------------------------------------------------\u001b[0m",
      "\u001b[1;31mNameError\u001b[0m                                 Traceback (most recent call last)",
      "\u001b[1;32m<ipython-input-87-da997e10243f>\u001b[0m in \u001b[0;36m<module>\u001b[1;34m()\u001b[0m\n\u001b[1;32m----> 1\u001b[1;33m \u001b[0mdtyps\u001b[0m\u001b[1;33m(\u001b[0m\u001b[0mdt_object\u001b[0m\u001b[1;33m)\u001b[0m\u001b[1;33m\u001b[0m\u001b[0m\n\u001b[0m",
      "\u001b[1;31mNameError\u001b[0m: name 'dtyps' is not defined"
     ]
    }
   ],
   "source": []
  },
  {
   "cell_type": "code",
   "execution_count": 34,
   "metadata": {},
   "outputs": [
    {
     "data": {
      "text/plain": [
       "datetime.datetime(2473, 2, 25, 20, 45, 50)"
      ]
     },
     "execution_count": 34,
     "metadata": {},
     "output_type": "execute_result"
    }
   ],
   "source": [
    "dt_object"
   ]
  },
  {
   "cell_type": "code",
   "execution_count": null,
   "metadata": {},
   "outputs": [],
   "source": [
    "df['date'] = pd.to_datetime(df['Timestamp'],unit='s')"
   ]
  },
  {
   "cell_type": "code",
   "execution_count": null,
   "metadata": {},
   "outputs": [],
   "source": [
    "newdf['Timestamp']=newdf['Timestamp'].astype(str)"
   ]
  },
  {
   "cell_type": "code",
   "execution_count": null,
   "metadata": {},
   "outputs": [],
   "source": [
    "\n",
    "df.dtypes"
   ]
  }
 ],
 "metadata": {
  "kernelspec": {
   "display_name": "Python 3",
   "language": "python",
   "name": "python3"
  },
  "language_info": {
   "codemirror_mode": {
    "name": "ipython",
    "version": 3
   },
   "file_extension": ".py",
   "mimetype": "text/x-python",
   "name": "python",
   "nbconvert_exporter": "python",
   "pygments_lexer": "ipython3",
   "version": "3.6.4"
  }
 },
 "nbformat": 4,
 "nbformat_minor": 2
}
